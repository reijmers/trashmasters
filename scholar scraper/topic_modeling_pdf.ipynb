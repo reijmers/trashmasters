{
 "cells": [
  {
   "cell_type": "code",
   "execution_count": 1,
   "metadata": {},
   "outputs": [
    {
     "data": {
      "text/plain": [
       "'c:\\\\Users\\\\celia\\\\OneDrive - UvA\\\\semester 3\\\\DE\\\\trashmasters\\\\scholar scraper'"
      ]
     },
     "execution_count": 1,
     "metadata": {},
     "output_type": "execute_result"
    }
   ],
   "source": [
    "import os \n",
    "os.getcwd()"
   ]
  },
  {
   "cell_type": "code",
   "execution_count": 22,
   "metadata": {},
   "outputs": [
    {
     "name": "stdout",
     "output_type": "stream",
     "text": [
      "Collecting natsort\n",
      "  Downloading natsort-8.4.0-py3-none-any.whl.metadata (21 kB)\n",
      "Downloading natsort-8.4.0-py3-none-any.whl (38 kB)\n",
      "Installing collected packages: natsort\n",
      "Successfully installed natsort-8.4.0\n",
      "Note: you may need to restart the kernel to use updated packages.\n"
     ]
    }
   ],
   "source": [
    "%pip install natsort"
   ]
  },
  {
   "cell_type": "code",
   "execution_count": 23,
   "metadata": {},
   "outputs": [
    {
     "name": "stdout",
     "output_type": "stream",
     "text": [
      "Found 107 PDFs in folder!\n"
     ]
    },
    {
     "data": {
      "application/vnd.jupyter.widget-view+json": {
       "model_id": "cf4424038e9746649de6a4783028f45a",
       "version_major": 2,
       "version_minor": 0
      },
      "text/plain": [
       "Processing PDFs:   0%|          | 0/107 [00:00<?, ?it/s]"
      ]
     },
     "metadata": {},
     "output_type": "display_data"
    },
    {
     "name": "stdout",
     "output_type": "stream",
     "text": [
      "Analyzing 0.pdf...\n",
      "0.pdf has 12 pages!\n",
      "Analyzing 3.pdf...\n",
      "3.pdf has 9 pages!\n"
     ]
    },
    {
     "name": "stderr",
     "output_type": "stream",
     "text": [
      "invalid pdf header: b'<!DOC'\n",
      "EOF marker not found\n"
     ]
    },
    {
     "name": "stdout",
     "output_type": "stream",
     "text": [
      "Analyzing 4.pdf...\n",
      "Error reading 4.pdf: Stream has ended unexpectedly\n",
      "Analyzing 8.pdf...\n",
      "8.pdf has 14 pages!\n"
     ]
    },
    {
     "name": "stderr",
     "output_type": "stream",
     "text": [
      "invalid pdf header: b'<!DOC'\n",
      "EOF marker not found\n"
     ]
    },
    {
     "name": "stdout",
     "output_type": "stream",
     "text": [
      "Analyzing 9.pdf...\n",
      "Error reading 9.pdf: Stream has ended unexpectedly\n",
      "Analyzing 11.pdf...\n",
      "11.pdf has 12 pages!\n"
     ]
    },
    {
     "name": "stderr",
     "output_type": "stream",
     "text": [
      "invalid pdf header: b'<html'\n",
      "EOF marker not found\n",
      "EOF marker not found\n"
     ]
    },
    {
     "name": "stdout",
     "output_type": "stream",
     "text": [
      "Analyzing 13.pdf...\n",
      "Error reading 13.pdf: Stream has ended unexpectedly\n",
      "Analyzing 14.pdf...\n",
      "14.pdf has 11 pages!\n",
      "Analyzing 15.pdf...\n",
      "15.pdf has 6 pages!\n",
      "Analyzing 16.pdf...\n",
      "16.pdf has 11 pages!\n",
      "Analyzing 17.pdf...\n",
      "17.pdf has 8 pages!\n",
      "Analyzing 19.pdf...\n",
      "19.pdf has 18 pages!\n"
     ]
    },
    {
     "name": "stderr",
     "output_type": "stream",
     "text": [
      "invalid pdf header: b'<html'\n",
      "EOF marker not found\n",
      "EOF marker not found\n"
     ]
    },
    {
     "name": "stdout",
     "output_type": "stream",
     "text": [
      "Analyzing 20.pdf...\n",
      "Error reading 20.pdf: Stream has ended unexpectedly\n",
      "Analyzing 22.pdf...\n",
      "22.pdf has 36 pages!\n",
      "Analyzing 23.pdf...\n",
      "23.pdf has 36 pages!\n",
      "Analyzing 24.pdf...\n",
      "24.pdf has 16 pages!\n",
      "Analyzing 27.pdf...\n",
      "27.pdf has 19 pages!\n"
     ]
    },
    {
     "name": "stderr",
     "output_type": "stream",
     "text": [
      "invalid pdf header: b'<!DOC'\n",
      "EOF marker not found\n"
     ]
    },
    {
     "name": "stdout",
     "output_type": "stream",
     "text": [
      "Analyzing 29.pdf...\n",
      "Error reading 29.pdf: Stream has ended unexpectedly\n",
      "Analyzing 30.pdf...\n",
      "30.pdf has 40 pages!\n",
      "Analyzing 35.pdf...\n",
      "35.pdf has 13 pages!\n",
      "Analyzing 37.pdf...\n",
      "37.pdf has 10 pages!\n"
     ]
    },
    {
     "name": "stderr",
     "output_type": "stream",
     "text": [
      "invalid pdf header: b'<html'\n",
      "EOF marker not found\n",
      "EOF marker not found\n",
      "invalid pdf header: b'<!DOC'\n",
      "EOF marker not found\n"
     ]
    },
    {
     "name": "stdout",
     "output_type": "stream",
     "text": [
      "Analyzing 38.pdf...\n",
      "Error reading 38.pdf: Stream has ended unexpectedly\n",
      "Analyzing 39.pdf...\n",
      "Error reading 39.pdf: Stream has ended unexpectedly\n",
      "Analyzing 41.pdf...\n",
      "41.pdf has 13 pages!\n"
     ]
    },
    {
     "name": "stderr",
     "output_type": "stream",
     "text": [
      "invalid pdf header: b'<!DOC'\n",
      "EOF marker not found\n",
      "invalid pdf header: b'<html'\n",
      "EOF marker not found\n",
      "EOF marker not found\n",
      "invalid pdf header: b'<!DOC'\n",
      "EOF marker not found\n",
      "invalid pdf header: b'<html'\n",
      "EOF marker not found\n",
      "EOF marker not found\n",
      "invalid pdf header: b'<!DOC'\n",
      "EOF marker not found\n",
      "invalid pdf header: b'<!DOC'\n",
      "EOF marker not found\n",
      "invalid pdf header: b'<html'\n",
      "EOF marker not found\n",
      "EOF marker not found\n",
      "invalid pdf header: b'<!DOC'\n",
      "EOF marker not found\n",
      "invalid pdf header: b'<html'\n",
      "EOF marker not found\n",
      "EOF marker not found\n",
      "invalid pdf header: b'<!DOC'\n",
      "EOF marker not found\n",
      "invalid pdf header: b'<!DOC'\n",
      "EOF marker not found\n"
     ]
    },
    {
     "name": "stdout",
     "output_type": "stream",
     "text": [
      "Analyzing 42.pdf...\n",
      "Error reading 42.pdf: Stream has ended unexpectedly\n",
      "Analyzing 46.pdf...\n",
      "Error reading 46.pdf: Stream has ended unexpectedly\n",
      "Analyzing 47.pdf...\n",
      "Error reading 47.pdf: Stream has ended unexpectedly\n",
      "Analyzing 48.pdf...\n",
      "Error reading 48.pdf: Stream has ended unexpectedly\n",
      "Analyzing 57.pdf...\n",
      "Error reading 57.pdf: Stream has ended unexpectedly\n",
      "Analyzing 58.pdf...\n",
      "Error reading 58.pdf: Stream has ended unexpectedly\n",
      "Analyzing 59.pdf...\n",
      "Error reading 59.pdf: Stream has ended unexpectedly\n",
      "Analyzing 61.pdf...\n",
      "Error reading 61.pdf: Stream has ended unexpectedly\n",
      "Analyzing 63.pdf...\n",
      "Error reading 63.pdf: Stream has ended unexpectedly\n",
      "Analyzing 64.pdf...\n",
      "Error reading 64.pdf: Stream has ended unexpectedly\n",
      "Analyzing 70.pdf...\n",
      "Error reading 70.pdf: Stream has ended unexpectedly\n",
      "Analyzing 72.pdf...\n",
      "72.pdf has 9 pages!\n",
      "Analyzing 74.pdf...\n",
      "74.pdf has 10 pages!\n"
     ]
    },
    {
     "name": "stderr",
     "output_type": "stream",
     "text": [
      "invalid pdf header: b'<!DOC'\n",
      "EOF marker not found\n"
     ]
    },
    {
     "name": "stdout",
     "output_type": "stream",
     "text": [
      "Analyzing 76.pdf...\n",
      "Error reading 76.pdf: Stream has ended unexpectedly\n",
      "Analyzing 77.pdf...\n",
      "77.pdf has 55 pages!\n"
     ]
    },
    {
     "name": "stderr",
     "output_type": "stream",
     "text": [
      "invalid pdf header: b'<html'\n",
      "EOF marker not found\n",
      "EOF marker not found\n"
     ]
    },
    {
     "name": "stdout",
     "output_type": "stream",
     "text": [
      "Analyzing 80.pdf...\n",
      "Error reading 80.pdf: Stream has ended unexpectedly\n",
      "Analyzing 83.pdf...\n",
      "83.pdf has 8 pages!\n",
      "Analyzing 84.pdf...\n",
      "84.pdf has 16 pages!\n",
      "Analyzing 87.pdf...\n",
      "87.pdf has 6 pages!\n",
      "Analyzing 90.pdf...\n",
      "90.pdf has 18 pages!\n"
     ]
    },
    {
     "name": "stderr",
     "output_type": "stream",
     "text": [
      "invalid pdf header: b'<html'\n",
      "EOF marker not found\n",
      "EOF marker not found\n"
     ]
    },
    {
     "name": "stdout",
     "output_type": "stream",
     "text": [
      "Analyzing 92.pdf...\n",
      "92.pdf has 18 pages!\n",
      "Analyzing 93.pdf...\n",
      "Error reading 93.pdf: Stream has ended unexpectedly\n",
      "Analyzing 96.pdf...\n",
      "96.pdf has 20 pages!\n",
      "Analyzing 98.pdf...\n",
      "98.pdf has 13 pages!\n",
      "Analyzing 101.pdf...\n",
      "101.pdf has 17 pages!\n"
     ]
    },
    {
     "name": "stderr",
     "output_type": "stream",
     "text": [
      "invalid pdf header: b'<!DOC'\n",
      "EOF marker not found\n"
     ]
    },
    {
     "name": "stdout",
     "output_type": "stream",
     "text": [
      "Analyzing 103.pdf...\n",
      "Error reading 103.pdf: Stream has ended unexpectedly\n",
      "Analyzing 107.pdf...\n",
      "107.pdf has 9 pages!\n",
      "Analyzing 109.pdf...\n",
      "109.pdf has 12 pages!\n",
      "Analyzing 111.pdf...\n",
      "111.pdf has 10 pages!\n",
      "Analyzing 113.pdf...\n",
      "113.pdf has 15 pages!\n",
      "Analyzing 114.pdf...\n",
      "114.pdf has 12 pages!\n",
      "Analyzing 115.pdf...\n",
      "115.pdf has 11 pages!\n"
     ]
    },
    {
     "name": "stderr",
     "output_type": "stream",
     "text": [
      "invalid pdf header: b'<html'\n",
      "EOF marker not found\n",
      "EOF marker not found\n"
     ]
    },
    {
     "name": "stdout",
     "output_type": "stream",
     "text": [
      "Analyzing 117.pdf...\n",
      "Error reading 117.pdf: Stream has ended unexpectedly\n",
      "Analyzing 122.pdf...\n",
      "122.pdf has 177 pages!\n"
     ]
    },
    {
     "name": "stderr",
     "output_type": "stream",
     "text": [
      "invalid pdf header: b'<html'\n",
      "EOF marker not found\n",
      "EOF marker not found\n",
      "invalid pdf header: b'<!DOC'\n",
      "EOF marker not found\n"
     ]
    },
    {
     "name": "stdout",
     "output_type": "stream",
     "text": [
      "Analyzing 125.pdf...\n",
      "Error reading 125.pdf: Stream has ended unexpectedly\n",
      "Analyzing 126.pdf...\n",
      "Error reading 126.pdf: Stream has ended unexpectedly\n",
      "Analyzing 128.pdf...\n",
      "128.pdf has 11 pages!\n",
      "Analyzing 130.pdf...\n",
      "130.pdf has 15 pages!\n"
     ]
    },
    {
     "name": "stderr",
     "output_type": "stream",
     "text": [
      "invalid pdf header: b'<html'\n",
      "EOF marker not found\n",
      "EOF marker not found\n"
     ]
    },
    {
     "name": "stdout",
     "output_type": "stream",
     "text": [
      "Analyzing 132.pdf...\n",
      "Error reading 132.pdf: Stream has ended unexpectedly\n",
      "Analyzing 135.pdf...\n",
      "135.pdf has 18 pages!\n"
     ]
    },
    {
     "name": "stderr",
     "output_type": "stream",
     "text": [
      "invalid pdf header: b'<!DOC'\n",
      "EOF marker not found\n"
     ]
    },
    {
     "name": "stdout",
     "output_type": "stream",
     "text": [
      "Analyzing 138.pdf...\n",
      "Error reading 138.pdf: Stream has ended unexpectedly\n",
      "Analyzing 139.pdf...\n",
      "139.pdf has 23 pages!\n"
     ]
    },
    {
     "name": "stderr",
     "output_type": "stream",
     "text": [
      "invalid pdf header: b'<!DOC'\n",
      "EOF marker not found\n"
     ]
    },
    {
     "name": "stdout",
     "output_type": "stream",
     "text": [
      "Analyzing 143.pdf...\n",
      "Error reading 143.pdf: Stream has ended unexpectedly\n",
      "Analyzing 144.pdf...\n",
      "144.pdf has 50 pages!\n",
      "Analyzing 145.pdf...\n",
      "145.pdf has 12 pages!\n"
     ]
    },
    {
     "name": "stderr",
     "output_type": "stream",
     "text": [
      "invalid pdf header: b'<!DOC'\n",
      "EOF marker not found\n",
      "invalid pdf header: b'<!DOC'\n",
      "EOF marker not found\n"
     ]
    },
    {
     "name": "stdout",
     "output_type": "stream",
     "text": [
      "Analyzing 146.pdf...\n",
      "Error reading 146.pdf: Stream has ended unexpectedly\n",
      "Analyzing 149.pdf...\n",
      "Error reading 149.pdf: Stream has ended unexpectedly\n",
      "Analyzing 150.pdf...\n",
      "150.pdf has 12 pages!\n",
      "Analyzing 152.pdf...\n",
      "Error reading 152.pdf: Cannot read an empty file\n",
      "Analyzing 153.pdf...\n",
      "153.pdf has 15 pages!\n"
     ]
    },
    {
     "name": "stderr",
     "output_type": "stream",
     "text": [
      "invalid pdf header: b'<!DOC'\n",
      "EOF marker not found\n",
      "invalid pdf header: b'<!DOC'\n",
      "EOF marker not found\n"
     ]
    },
    {
     "name": "stdout",
     "output_type": "stream",
     "text": [
      "Analyzing 154.pdf...\n",
      "Error reading 154.pdf: Stream has ended unexpectedly\n",
      "Analyzing 157.pdf...\n",
      "Error reading 157.pdf: Stream has ended unexpectedly\n",
      "Analyzing 160.pdf...\n",
      "160.pdf has 14 pages!\n",
      "Analyzing 161.pdf...\n",
      "161.pdf has 15 pages!\n",
      "Analyzing 162.pdf...\n",
      "162.pdf has 16 pages!\n",
      "Analyzing 165.pdf...\n",
      "165.pdf has 11 pages!\n",
      "Analyzing 168.pdf...\n",
      "168.pdf has 8 pages!\n",
      "Analyzing 169.pdf...\n",
      "169.pdf has 14 pages!\n"
     ]
    },
    {
     "name": "stderr",
     "output_type": "stream",
     "text": [
      "invalid pdf header: b'<!DOC'\n",
      "EOF marker not found\n",
      "invalid pdf header: b'<!DOC'\n",
      "EOF marker not found\n",
      "invalid pdf header: b'<!DOC'\n",
      "EOF marker not found\n",
      "invalid pdf header: b'<html'\n",
      "EOF marker not found\n",
      "EOF marker not found\n"
     ]
    },
    {
     "name": "stdout",
     "output_type": "stream",
     "text": [
      "Analyzing 171.pdf...\n",
      "Error reading 171.pdf: Stream has ended unexpectedly\n",
      "Analyzing 173.pdf...\n",
      "Error reading 173.pdf: Stream has ended unexpectedly\n",
      "Analyzing 175.pdf...\n",
      "Error reading 175.pdf: Stream has ended unexpectedly\n",
      "Analyzing 176.pdf...\n",
      "Error reading 176.pdf: Stream has ended unexpectedly\n",
      "Analyzing 179.pdf...\n",
      "179.pdf has 10 pages!\n",
      "Analyzing 180.pdf...\n",
      "180.pdf has 13 pages!\n",
      "Analyzing 182.pdf...\n",
      "182.pdf has 19 pages!\n"
     ]
    },
    {
     "name": "stderr",
     "output_type": "stream",
     "text": [
      "invalid pdf header: b'<!DOC'\n",
      "EOF marker not found\n"
     ]
    },
    {
     "name": "stdout",
     "output_type": "stream",
     "text": [
      "Analyzing 184.pdf...\n",
      "Error reading 184.pdf: Stream has ended unexpectedly\n",
      "Analyzing 185.pdf...\n",
      "185.pdf has 13 pages!\n",
      "Analyzing 188.pdf...\n",
      "188.pdf has 11 pages!\n"
     ]
    },
    {
     "name": "stderr",
     "output_type": "stream",
     "text": [
      "invalid pdf header: b'<!DOC'\n",
      "EOF marker not found\n"
     ]
    },
    {
     "name": "stdout",
     "output_type": "stream",
     "text": [
      "Analyzing 191.pdf...\n",
      "Error reading 191.pdf: Stream has ended unexpectedly\n",
      "Analyzing 192.pdf...\n",
      "192.pdf has 17 pages!\n"
     ]
    },
    {
     "name": "stderr",
     "output_type": "stream",
     "text": [
      "invalid pdf header: b'<html'\n",
      "EOF marker not found\n",
      "EOF marker not found\n"
     ]
    },
    {
     "name": "stdout",
     "output_type": "stream",
     "text": [
      "Analyzing 193.pdf...\n",
      "Error reading 193.pdf: Stream has ended unexpectedly\n",
      "Analyzing 194.pdf...\n",
      "194.pdf has 10 pages!\n",
      "Analyzing 199.pdf...\n",
      "199.pdf has 10 pages!\n",
      "Analyzing 208.pdf...\n",
      "208.pdf has 22 pages!\n"
     ]
    },
    {
     "name": "stderr",
     "output_type": "stream",
     "text": [
      "invalid pdf header: b'<!DOC'\n",
      "EOF marker not found\n",
      "invalid pdf header: b'<!DOC'\n",
      "EOF marker not found\n",
      "invalid pdf header: b'<!DOC'\n",
      "EOF marker not found\n"
     ]
    },
    {
     "name": "stdout",
     "output_type": "stream",
     "text": [
      "Analyzing 210.pdf...\n",
      "Error reading 210.pdf: Stream has ended unexpectedly\n",
      "Analyzing 212.pdf...\n",
      "Error reading 212.pdf: Stream has ended unexpectedly\n",
      "Analyzing 214.pdf...\n",
      "Error reading 214.pdf: Stream has ended unexpectedly\n",
      "Analyzing 218.pdf...\n",
      "218.pdf has 38 pages!\n"
     ]
    },
    {
     "name": "stderr",
     "output_type": "stream",
     "text": [
      "invalid pdf header: b'<!DOC'\n",
      "EOF marker not found\n"
     ]
    },
    {
     "name": "stdout",
     "output_type": "stream",
     "text": [
      "Analyzing 221.pdf...\n",
      "Error reading 221.pdf: Stream has ended unexpectedly\n",
      "Analyzing 224.pdf...\n",
      "224.pdf has 3 pages!\n"
     ]
    },
    {
     "name": "stderr",
     "output_type": "stream",
     "text": [
      "invalid pdf header: b'<html'\n",
      "EOF marker not found\n",
      "EOF marker not found\n"
     ]
    },
    {
     "name": "stdout",
     "output_type": "stream",
     "text": [
      "Analyzing 225.pdf...\n",
      "225.pdf has 9 pages!\n",
      "Analyzing 226.pdf...\n",
      "Error reading 226.pdf: Stream has ended unexpectedly\n",
      "Analyzing 227.pdf...\n",
      "227.pdf has 18 pages!\n"
     ]
    }
   ],
   "source": [
    "from natsort import natsorted\n",
    "from pypdf import PdfReader\n",
    "from os import listdir\n",
    "from os.path import isfile, join\n",
    "from tqdm.notebook import tqdm\n",
    "\n",
    "mypath = 'C:\\\\Users\\\\celia\\\\OneDrive - UvA\\\\semester 3\\\\DE\\\\trashmasters\\\\scholar scraper\\\\pdfs'\n",
    "\n",
    "# Use natsorted to sort files in a natural order\n",
    "pdf_folder_content = natsorted([f for f in listdir(mypath) if isfile(join(mypath, f)) and f.lower().endswith('.pdf')])\n",
    "\n",
    "print(f'Found {len(pdf_folder_content)} PDFs in folder!')\n",
    "\n",
    "all_pdf_texts = []\n",
    "\n",
    "for pdf in tqdm(pdf_folder_content, desc=\"Processing PDFs\"):\n",
    "\n",
    "    print(f'Analyzing {pdf}...')\n",
    "\n",
    "    try:\n",
    "        reader = PdfReader(join(mypath, pdf))\n",
    "    except Exception as e:\n",
    "        print(f'Error reading {pdf}: {e}')\n",
    "        continue\n",
    "\n",
    "    n_pages = len(reader.pages)\n",
    "\n",
    "    print(f'{pdf} has {n_pages} pages!')\n",
    "\n",
    "    all_text = []\n",
    "\n",
    "    for i in range(0, n_pages):\n",
    "        page_text = reader.pages[i].extract_text()\n",
    "        # print(page_text)\n",
    "        all_text.append(page_text)\n",
    "\n",
    "    result_string = ' '.join(all_text)\n",
    "    all_pdf_texts.append(result_string)\n"
   ]
  },
  {
   "cell_type": "code",
   "execution_count": 38,
   "metadata": {},
   "outputs": [
    {
     "name": "stdout",
     "output_type": "stream",
     "text": [
      "['circular_economy', 'focus', 'sustainability']\n"
     ]
    }
   ],
   "source": [
    "import nltk\n",
    "from nltk.corpus import stopwords\n",
    "from nltk.tokenize import word_tokenize\n",
    "from nltk.stem import WordNetLemmatizer\n",
    "\n",
    "import string\n",
    "import re\n",
    "\n",
    "\n",
    "\n",
    "lemmatizer = WordNetLemmatizer()\n",
    "\n",
    "additional_stopwords = ['et', 'al','b', 'fw', 'e', 'j', 'ce', 'waste', 'economy', 'management']\n",
    "\n",
    "# Define specific multi-word phrases to be combined\n",
    "phrase_mapping = {'circular economy': 'circular_economy', 'other phrase': 'other_combined_phrase'}\n",
    "\n",
    "def preprocess_text(text):\n",
    "    # removes special characters and punctuation (STEP 1: Text cleaning)\n",
    "    text = re.sub(r'[^A-Za-z\\s]', '', text)\n",
    "    # remove additional white spaces (STEP 1: Text cleaning)\n",
    "    text = re.sub(r'\\s+', ' ', text).strip()\n",
    "\n",
    "    # put text in lowercases (STEP 2: Case normalization)\n",
    "    text = text.lower()\n",
    "\n",
    "    # Replace specific multi-word phrases with combined tokens\n",
    "    for phrase, replacement in phrase_mapping.items():\n",
    "        text = text.replace(phrase, replacement)\n",
    "\n",
    "    # STEP 3: Tokenization\n",
    "    tokens = word_tokenize(text)\n",
    "\n",
    "    # STEP 4: Removing stopwords\n",
    "    stopwords_list = set(stopwords.words('english')).union(additional_stopwords)\n",
    "    tokens = [token for token in tokens if token not in stopwords_list]\n",
    "\n",
    "    # STEP 5: Lemmatization\n",
    "    lemmatized_words = [lemmatizer.lemmatize(token) for token in tokens]\n",
    "\n",
    "    return lemmatized_words\n",
    "\n",
    "# Example\n",
    "text = \"Circular economy focuses on waste management and economy sustainability.\"\n",
    "processed_text = preprocess_text(text)\n",
    "print(processed_text)\n"
   ]
  },
  {
   "cell_type": "code",
   "execution_count": 20,
   "metadata": {},
   "outputs": [
    {
     "name": "stdout",
     "output_type": "stream",
     "text": [
      "Found 107 PDFs in folder!\n",
      "Analyzing 0.pdf...\n",
      "0.pdf has 12 pages!\n",
      "Analyzing 101.pdf...\n",
      "101.pdf has 17 pages!\n"
     ]
    },
    {
     "name": "stderr",
     "output_type": "stream",
     "text": [
      "invalid pdf header: b'<!DOC'\n",
      "EOF marker not found\n"
     ]
    },
    {
     "name": "stdout",
     "output_type": "stream",
     "text": [
      "Analyzing 103.pdf...\n",
      "Error reading 103.pdf!\n",
      "Analyzing 107.pdf...\n",
      "107.pdf has 9 pages!\n",
      "Analyzing 109.pdf...\n",
      "109.pdf has 12 pages!\n",
      "Analyzing 11.pdf...\n",
      "11.pdf has 12 pages!\n",
      "Analyzing 111.pdf...\n",
      "111.pdf has 10 pages!\n",
      "Analyzing 113.pdf...\n",
      "113.pdf has 15 pages!\n",
      "Analyzing 114.pdf...\n",
      "114.pdf has 12 pages!\n",
      "Analyzing 115.pdf...\n",
      "115.pdf has 11 pages!\n"
     ]
    },
    {
     "name": "stderr",
     "output_type": "stream",
     "text": [
      "invalid pdf header: b'<html'\n",
      "EOF marker not found\n",
      "EOF marker not found\n"
     ]
    },
    {
     "name": "stdout",
     "output_type": "stream",
     "text": [
      "Analyzing 117.pdf...\n",
      "Error reading 117.pdf!\n",
      "Analyzing 122.pdf...\n",
      "122.pdf has 177 pages!\n"
     ]
    },
    {
     "name": "stderr",
     "output_type": "stream",
     "text": [
      "invalid pdf header: b'<html'\n",
      "EOF marker not found\n",
      "EOF marker not found\n",
      "invalid pdf header: b'<!DOC'\n",
      "EOF marker not found\n"
     ]
    },
    {
     "name": "stdout",
     "output_type": "stream",
     "text": [
      "Analyzing 125.pdf...\n",
      "Error reading 125.pdf!\n",
      "Analyzing 126.pdf...\n",
      "Error reading 126.pdf!\n",
      "Analyzing 128.pdf...\n",
      "128.pdf has 11 pages!\n"
     ]
    },
    {
     "name": "stderr",
     "output_type": "stream",
     "text": [
      "invalid pdf header: b'<html'\n",
      "EOF marker not found\n",
      "EOF marker not found\n"
     ]
    },
    {
     "name": "stdout",
     "output_type": "stream",
     "text": [
      "Analyzing 13.pdf...\n",
      "Error reading 13.pdf!\n",
      "Analyzing 130.pdf...\n",
      "130.pdf has 15 pages!\n"
     ]
    },
    {
     "name": "stderr",
     "output_type": "stream",
     "text": [
      "invalid pdf header: b'<html'\n",
      "EOF marker not found\n",
      "EOF marker not found\n"
     ]
    },
    {
     "name": "stdout",
     "output_type": "stream",
     "text": [
      "Analyzing 132.pdf...\n",
      "Error reading 132.pdf!\n",
      "Analyzing 135.pdf...\n",
      "135.pdf has 18 pages!\n"
     ]
    },
    {
     "name": "stderr",
     "output_type": "stream",
     "text": [
      "invalid pdf header: b'<!DOC'\n",
      "EOF marker not found\n"
     ]
    },
    {
     "name": "stdout",
     "output_type": "stream",
     "text": [
      "Analyzing 138.pdf...\n",
      "Error reading 138.pdf!\n",
      "Analyzing 139.pdf...\n",
      "139.pdf has 23 pages!\n",
      "Analyzing 14.pdf...\n",
      "14.pdf has 11 pages!\n"
     ]
    },
    {
     "name": "stderr",
     "output_type": "stream",
     "text": [
      "invalid pdf header: b'<!DOC'\n",
      "EOF marker not found\n"
     ]
    },
    {
     "name": "stdout",
     "output_type": "stream",
     "text": [
      "Analyzing 143.pdf...\n",
      "Error reading 143.pdf!\n",
      "Analyzing 144.pdf...\n",
      "144.pdf has 50 pages!\n",
      "Analyzing 145.pdf...\n",
      "145.pdf has 12 pages!\n"
     ]
    },
    {
     "name": "stderr",
     "output_type": "stream",
     "text": [
      "invalid pdf header: b'<!DOC'\n",
      "EOF marker not found\n",
      "invalid pdf header: b'<!DOC'\n",
      "EOF marker not found\n"
     ]
    },
    {
     "name": "stdout",
     "output_type": "stream",
     "text": [
      "Analyzing 146.pdf...\n",
      "Error reading 146.pdf!\n",
      "Analyzing 149.pdf...\n",
      "Error reading 149.pdf!\n",
      "Analyzing 15.pdf...\n",
      "15.pdf has 6 pages!\n",
      "Analyzing 150.pdf...\n",
      "150.pdf has 12 pages!\n",
      "Analyzing 152.pdf...\n",
      "Error reading 152.pdf!\n",
      "Analyzing 153.pdf...\n",
      "153.pdf has 15 pages!\n"
     ]
    },
    {
     "name": "stderr",
     "output_type": "stream",
     "text": [
      "invalid pdf header: b'<!DOC'\n",
      "EOF marker not found\n",
      "invalid pdf header: b'<!DOC'\n",
      "EOF marker not found\n"
     ]
    },
    {
     "name": "stdout",
     "output_type": "stream",
     "text": [
      "Analyzing 154.pdf...\n",
      "Error reading 154.pdf!\n",
      "Analyzing 157.pdf...\n",
      "Error reading 157.pdf!\n",
      "Analyzing 16.pdf...\n",
      "16.pdf has 11 pages!\n",
      "Analyzing 160.pdf...\n",
      "160.pdf has 14 pages!\n",
      "Analyzing 161.pdf...\n",
      "161.pdf has 15 pages!\n",
      "Analyzing 162.pdf...\n",
      "162.pdf has 16 pages!\n",
      "Analyzing 165.pdf...\n",
      "165.pdf has 11 pages!\n",
      "Analyzing 168.pdf...\n",
      "168.pdf has 8 pages!\n",
      "Analyzing 169.pdf...\n",
      "169.pdf has 14 pages!\n",
      "Analyzing 17.pdf...\n",
      "17.pdf has 8 pages!\n"
     ]
    },
    {
     "name": "stderr",
     "output_type": "stream",
     "text": [
      "invalid pdf header: b'<!DOC'\n",
      "EOF marker not found\n",
      "invalid pdf header: b'<!DOC'\n",
      "EOF marker not found\n",
      "invalid pdf header: b'<!DOC'\n",
      "EOF marker not found\n",
      "invalid pdf header: b'<html'\n",
      "EOF marker not found\n",
      "EOF marker not found\n"
     ]
    },
    {
     "name": "stdout",
     "output_type": "stream",
     "text": [
      "Analyzing 171.pdf...\n",
      "Error reading 171.pdf!\n",
      "Analyzing 173.pdf...\n",
      "Error reading 173.pdf!\n",
      "Analyzing 175.pdf...\n",
      "Error reading 175.pdf!\n",
      "Analyzing 176.pdf...\n",
      "Error reading 176.pdf!\n",
      "Analyzing 179.pdf...\n",
      "179.pdf has 10 pages!\n",
      "Analyzing 180.pdf...\n",
      "180.pdf has 13 pages!\n",
      "Analyzing 182.pdf...\n",
      "182.pdf has 19 pages!\n"
     ]
    },
    {
     "name": "stderr",
     "output_type": "stream",
     "text": [
      "invalid pdf header: b'<!DOC'\n",
      "EOF marker not found\n"
     ]
    },
    {
     "name": "stdout",
     "output_type": "stream",
     "text": [
      "Analyzing 184.pdf...\n",
      "Error reading 184.pdf!\n",
      "Analyzing 185.pdf...\n",
      "185.pdf has 13 pages!\n",
      "Analyzing 188.pdf...\n",
      "188.pdf has 11 pages!\n",
      "Analyzing 19.pdf...\n",
      "19.pdf has 18 pages!\n"
     ]
    },
    {
     "name": "stderr",
     "output_type": "stream",
     "text": [
      "invalid pdf header: b'<!DOC'\n",
      "EOF marker not found\n"
     ]
    },
    {
     "name": "stdout",
     "output_type": "stream",
     "text": [
      "Analyzing 191.pdf...\n",
      "Error reading 191.pdf!\n",
      "Analyzing 192.pdf...\n",
      "192.pdf has 17 pages!\n"
     ]
    },
    {
     "name": "stderr",
     "output_type": "stream",
     "text": [
      "invalid pdf header: b'<html'\n",
      "EOF marker not found\n",
      "EOF marker not found\n"
     ]
    },
    {
     "name": "stdout",
     "output_type": "stream",
     "text": [
      "Analyzing 193.pdf...\n",
      "Error reading 193.pdf!\n",
      "Analyzing 194.pdf...\n",
      "194.pdf has 10 pages!\n",
      "Analyzing 199.pdf...\n",
      "199.pdf has 10 pages!\n"
     ]
    },
    {
     "name": "stderr",
     "output_type": "stream",
     "text": [
      "invalid pdf header: b'<html'\n",
      "EOF marker not found\n",
      "EOF marker not found\n"
     ]
    },
    {
     "name": "stdout",
     "output_type": "stream",
     "text": [
      "Analyzing 20.pdf...\n",
      "Error reading 20.pdf!\n",
      "Analyzing 208.pdf...\n",
      "208.pdf has 22 pages!\n"
     ]
    },
    {
     "name": "stderr",
     "output_type": "stream",
     "text": [
      "invalid pdf header: b'<!DOC'\n",
      "EOF marker not found\n",
      "invalid pdf header: b'<!DOC'\n",
      "EOF marker not found\n",
      "invalid pdf header: b'<!DOC'\n",
      "EOF marker not found\n"
     ]
    },
    {
     "name": "stdout",
     "output_type": "stream",
     "text": [
      "Analyzing 210.pdf...\n",
      "Error reading 210.pdf!\n",
      "Analyzing 212.pdf...\n",
      "Error reading 212.pdf!\n",
      "Analyzing 214.pdf...\n",
      "Error reading 214.pdf!\n",
      "Analyzing 218.pdf...\n",
      "218.pdf has 38 pages!\n",
      "Analyzing 22.pdf...\n",
      "22.pdf has 36 pages!\n"
     ]
    },
    {
     "name": "stderr",
     "output_type": "stream",
     "text": [
      "invalid pdf header: b'<!DOC'\n",
      "EOF marker not found\n"
     ]
    },
    {
     "name": "stdout",
     "output_type": "stream",
     "text": [
      "Analyzing 221.pdf...\n",
      "Error reading 221.pdf!\n",
      "Analyzing 224.pdf...\n",
      "224.pdf has 3 pages!\n"
     ]
    },
    {
     "name": "stderr",
     "output_type": "stream",
     "text": [
      "invalid pdf header: b'<html'\n",
      "EOF marker not found\n",
      "EOF marker not found\n"
     ]
    },
    {
     "name": "stdout",
     "output_type": "stream",
     "text": [
      "Analyzing 225.pdf...\n",
      "225.pdf has 9 pages!\n",
      "Analyzing 226.pdf...\n",
      "Error reading 226.pdf!\n",
      "Analyzing 227.pdf...\n",
      "227.pdf has 18 pages!\n",
      "Analyzing 23.pdf...\n",
      "23.pdf has 36 pages!\n",
      "Analyzing 24.pdf...\n",
      "24.pdf has 16 pages!\n",
      "Analyzing 27.pdf...\n",
      "27.pdf has 19 pages!\n"
     ]
    },
    {
     "name": "stderr",
     "output_type": "stream",
     "text": [
      "invalid pdf header: b'<!DOC'\n",
      "EOF marker not found\n"
     ]
    },
    {
     "name": "stdout",
     "output_type": "stream",
     "text": [
      "Analyzing 29.pdf...\n",
      "Error reading 29.pdf!\n",
      "Analyzing 3.pdf...\n",
      "3.pdf has 9 pages!\n",
      "Analyzing 30.pdf...\n",
      "30.pdf has 40 pages!\n",
      "Analyzing 35.pdf...\n",
      "35.pdf has 13 pages!\n",
      "Analyzing 37.pdf...\n",
      "37.pdf has 10 pages!\n"
     ]
    },
    {
     "name": "stderr",
     "output_type": "stream",
     "text": [
      "invalid pdf header: b'<html'\n",
      "EOF marker not found\n",
      "EOF marker not found\n",
      "invalid pdf header: b'<!DOC'\n",
      "EOF marker not found\n",
      "invalid pdf header: b'<!DOC'\n",
      "EOF marker not found\n"
     ]
    },
    {
     "name": "stdout",
     "output_type": "stream",
     "text": [
      "Analyzing 38.pdf...\n",
      "Error reading 38.pdf!\n",
      "Analyzing 39.pdf...\n",
      "Error reading 39.pdf!\n",
      "Analyzing 4.pdf...\n",
      "Error reading 4.pdf!\n",
      "Analyzing 41.pdf...\n",
      "41.pdf has 13 pages!\n"
     ]
    },
    {
     "name": "stderr",
     "output_type": "stream",
     "text": [
      "invalid pdf header: b'<!DOC'\n",
      "EOF marker not found\n",
      "invalid pdf header: b'<html'\n",
      "EOF marker not found\n",
      "EOF marker not found\n",
      "invalid pdf header: b'<!DOC'\n",
      "EOF marker not found\n",
      "invalid pdf header: b'<html'\n",
      "EOF marker not found\n",
      "EOF marker not found\n",
      "invalid pdf header: b'<!DOC'\n",
      "EOF marker not found\n",
      "invalid pdf header: b'<!DOC'\n",
      "EOF marker not found\n",
      "invalid pdf header: b'<html'\n",
      "EOF marker not found\n",
      "EOF marker not found\n",
      "invalid pdf header: b'<!DOC'\n",
      "EOF marker not found\n",
      "invalid pdf header: b'<html'\n",
      "EOF marker not found\n",
      "EOF marker not found\n",
      "invalid pdf header: b'<!DOC'\n",
      "EOF marker not found\n",
      "invalid pdf header: b'<!DOC'\n",
      "EOF marker not found\n"
     ]
    },
    {
     "name": "stdout",
     "output_type": "stream",
     "text": [
      "Analyzing 42.pdf...\n",
      "Error reading 42.pdf!\n",
      "Analyzing 46.pdf...\n",
      "Error reading 46.pdf!\n",
      "Analyzing 47.pdf...\n",
      "Error reading 47.pdf!\n",
      "Analyzing 48.pdf...\n",
      "Error reading 48.pdf!\n",
      "Analyzing 57.pdf...\n",
      "Error reading 57.pdf!\n",
      "Analyzing 58.pdf...\n",
      "Error reading 58.pdf!\n",
      "Analyzing 59.pdf...\n",
      "Error reading 59.pdf!\n",
      "Analyzing 61.pdf...\n",
      "Error reading 61.pdf!\n",
      "Analyzing 63.pdf...\n",
      "Error reading 63.pdf!\n",
      "Analyzing 64.pdf...\n",
      "Error reading 64.pdf!\n",
      "Analyzing 70.pdf...\n",
      "Error reading 70.pdf!\n",
      "Analyzing 72.pdf...\n",
      "72.pdf has 9 pages!\n",
      "Analyzing 74.pdf...\n",
      "74.pdf has 10 pages!\n"
     ]
    },
    {
     "name": "stderr",
     "output_type": "stream",
     "text": [
      "invalid pdf header: b'<!DOC'\n",
      "EOF marker not found\n"
     ]
    },
    {
     "name": "stdout",
     "output_type": "stream",
     "text": [
      "Analyzing 76.pdf...\n",
      "Error reading 76.pdf!\n",
      "Analyzing 77.pdf...\n",
      "77.pdf has 55 pages!\n",
      "Analyzing 8.pdf...\n",
      "8.pdf has 14 pages!\n"
     ]
    },
    {
     "name": "stderr",
     "output_type": "stream",
     "text": [
      "invalid pdf header: b'<html'\n",
      "EOF marker not found\n",
      "EOF marker not found\n"
     ]
    },
    {
     "name": "stdout",
     "output_type": "stream",
     "text": [
      "Analyzing 80.pdf...\n",
      "Error reading 80.pdf!\n",
      "Analyzing 83.pdf...\n",
      "83.pdf has 8 pages!\n",
      "Analyzing 84.pdf...\n",
      "84.pdf has 16 pages!\n",
      "Analyzing 87.pdf...\n",
      "87.pdf has 6 pages!\n"
     ]
    },
    {
     "name": "stderr",
     "output_type": "stream",
     "text": [
      "invalid pdf header: b'<!DOC'\n",
      "EOF marker not found\n"
     ]
    },
    {
     "name": "stdout",
     "output_type": "stream",
     "text": [
      "Analyzing 9.pdf...\n",
      "Error reading 9.pdf!\n",
      "Analyzing 90.pdf...\n",
      "90.pdf has 18 pages!\n"
     ]
    },
    {
     "name": "stderr",
     "output_type": "stream",
     "text": [
      "invalid pdf header: b'<html'\n"
     ]
    },
    {
     "name": "stdout",
     "output_type": "stream",
     "text": [
      "Analyzing 92.pdf...\n",
      "92.pdf has 18 pages!\n",
      "Analyzing 93.pdf...\n"
     ]
    },
    {
     "name": "stderr",
     "output_type": "stream",
     "text": [
      "EOF marker not found\n",
      "EOF marker not found\n"
     ]
    },
    {
     "name": "stdout",
     "output_type": "stream",
     "text": [
      "Error reading 93.pdf!\n",
      "Analyzing 96.pdf...\n",
      "96.pdf has 20 pages!\n",
      "Analyzing 98.pdf...\n",
      "98.pdf has 13 pages!\n"
     ]
    }
   ],
   "source": [
    "from pypdf import PdfReader\n",
    "from os import listdir\n",
    "from os.path import isfile, join\n",
    "import os\n",
    "from tqdm.notebook import tqdm\n",
    "\n",
    "mypath = 'C:\\\\Users\\\\celia\\\\OneDrive - UvA\\\\semester 3\\\\DE\\\\trashmasters\\\\scholar scraper\\\\pdfs'\n",
    "\n",
    "pdf_folder_content = [f for f in listdir(mypath) if isfile(join(mypath, f)) and f.lower().endswith('.pdf')]\n",
    "\n",
    "print(f'Found {len(pdf_folder_content)} PDFs in folder!')\n",
    "#print(pdf_folder_content)\n",
    "\n",
    "all_pdf_texts = []\n",
    "discussion_text = ''\n",
    "\n",
    "for pdf in pdf_folder_content:\n",
    "    \n",
    "    print(f'Analyzing {pdf}...')\n",
    "\n",
    "    try:\n",
    "       reader = PdfReader(f'{mypath}\\\\{pdf}')\n",
    "    except:\n",
    "        print(f'Error reading {pdf}!')\n",
    "        continue\n",
    "\n",
    "    n_pages = len(reader.pages)\n",
    "\t\n",
    "    print(f'{pdf} has {n_pages} pages!')\n",
    "\n",
    "    all_text = []\n",
    "\n",
    "    for i in range(0,n_pages):  \n",
    "        page_text = reader.pages[i].extract_text()\n",
    "        #print(page_text)\n",
    "        all_text.append(page_text)\n",
    "\n",
    "    \n",
    "\n",
    "    result_string = ' '.join(all_text)\n",
    "    all_pdf_texts.append(result_string)\n",
    "\n",
    "##SWITCH TO A DICTIONARY INSTEAD OF A LIST"
   ]
  },
  {
   "cell_type": "code",
   "execution_count": 25,
   "metadata": {},
   "outputs": [],
   "source": [
    "import nltk\n",
    "from nltk.corpus import stopwords\n",
    "from nltk.tokenize import word_tokenize\n",
    "import string\n",
    "import re\n",
    "\n",
    "from nltk.stem import WordNetLemmatizer\n",
    "from gensim import corpora\n",
    "from gensim.models.ldamodel import LdaModel\n",
    "\n",
    "lemmatizer = WordNetLemmatizer()\n",
    "\n",
    "additional_stopwords = ['et', 'al','b', 'fw', 'e', 'j', 'ce','waste', 'management'] \n",
    "phrase_mapping = {'circular economy': 'circular_economy'}\n",
    "\n",
    "def preprocess_text(text):\n",
    "    # removes special characters and punctuation (STEP 1: Text cleaning)\n",
    "    text = re.sub(r'[^A-Za-z\\s]', '', text) \n",
    "    # remove additional white spaces (STEP 1: Text cleaning)\n",
    "    text = re.sub(r'\\s+', ' ', text).strip() \n",
    "\n",
    "    #put text in lowercases (STEP 2: Case normalization)\n",
    "    text = text.lower()\n",
    "\n",
    "    #STEP 3: tokenization\n",
    "    tokens = word_tokenize(text)\n",
    "\n",
    "    #STEP 4: removing stopwords:\n",
    "    stopwords_list = set(stopwords.words('english')).union(additional_stopwords)\n",
    "    tokens = [token for token in tokens if token not in stopwords_list]\n",
    "\n",
    "    #STEP 5: lemmeatization: \n",
    "    lemmatized_words = [lemmatizer.lemmatize(token) for token in tokens]\n",
    "    \n",
    "    return lemmatized_words"
   ]
  },
  {
   "cell_type": "code",
   "execution_count": 26,
   "metadata": {},
   "outputs": [],
   "source": [
    "processed_text = [preprocess_text(text) for text in all_pdf_texts]\n",
    "\n",
    "corpus = corpora.Dictionary(processed_text)\n",
    "doc_term_matrix = [corpus.doc2bow(text) for text in processed_text]\n",
    "\n",
    "num_topics = 45\n",
    "\n",
    "lda_model = LdaModel(doc_term_matrix, id2word = corpus, num_topics = num_topics)\n"
   ]
  },
  {
   "cell_type": "code",
   "execution_count": 17,
   "metadata": {},
   "outputs": [
    {
     "name": "stdout",
     "output_type": "stream",
     "text": [
      "The most common topics and the number of instances are:\n",
      "Topic 8: Count 53\n",
      "Topic 20: Count 27\n",
      "Topic 42: Count 25\n",
      "Topic 44: Count 22\n",
      "Topic 41: Count 19\n",
      "Topic 6: Count 18\n",
      "Topic 9: Count 16\n",
      "Topic 24: Count 16\n",
      "Topic 11: Count 10\n",
      "Topic 22: Count 9\n",
      "Topic 25: Count 5\n",
      "Topic 39: Count 3\n",
      "Topic 26: Count 2\n",
      "Topic 15: Count 2\n",
      "Topic 45: Count 1\n",
      "Topic 12: Count 1\n",
      "Topic 37: Count 1\n",
      "Topic 29: Count 1\n",
      "Topic 1: Count 1\n",
      "Topic 17: Count 1\n",
      "Topic 33: Count 1\n",
      "Topic 23: Count 1\n",
      "Most used words in Topic 8: waste, recycling, management, economy, material, circular, food, product, system, study\n",
      "Most used words in Topic 20: waste, management, economy, circular, recycling, system, food, material, environmental, resource\n",
      "Most used words in Topic 42: waste, plastic, circular, economy, management, recycling, food, system, study, environmental\n",
      "Most used words in Topic 44: waste, food, management, recycling, economy, circular, material, environmental, resource, system\n",
      "Most used words in Topic 41: waste, management, recycling, economy, circular, system, food, also, collection, policy\n",
      "Most used words in Topic 6: waste, food, management, circular, economy, material, product, plastic, system, study\n",
      "Most used words in Topic 9: waste, food, plastic, material, management, recycling, system, circular, economy, product\n",
      "Most used words in Topic 24: waste, food, circular, management, economy, product, recycling, material, system, collection\n",
      "Most used words in Topic 11: waste, economy, food, management, circular, recycling, material, system, study, technology\n",
      "Most used words in Topic 22: waste, recycling, economy, product, system, management, food, collection, study, plastic\n",
      "Most used words in Topic 25: waste, economy, plastic, circular, recycling, management, material, product, food, policy\n",
      "Most used words in Topic 39: waste, recycling, management, economy, food, circular, product, study, material, system\n",
      "Most used words in Topic 26: waste, management, recycling, product, economy, circular, food, material, collection, system\n",
      "Most used words in Topic 15: waste, economy, circular, food, management, recycling, system, material, plastic, product\n",
      "Most used words in Topic 45: waste, management, circular, economy, recycling, product, collection, system, ewaste, food\n",
      "Most used words in Topic 12: waste, recycling, management, material, economy, product, circular, food, system, ewaste\n",
      "Most used words in Topic 37: waste, economy, management, circular, material, food, plastic, collection, recycling, system\n",
      "Most used words in Topic 29: waste, recycling, circular, economy, food, management, product, environmental, material, also\n",
      "Most used words in Topic 1: waste, economy, food, circular, recycling, product, management, system, ewaste, environmental\n",
      "Most used words in Topic 17: waste, food, circular, material, economy, policy, recycling, management, system, product\n",
      "Most used words in Topic 33: waste, circular, food, economy, management, policy, product, recycling, system, material\n",
      "Most used words in Topic 23: waste, economy, circular, material, recycling, management, resource, system, product, consumer\n"
     ]
    }
   ],
   "source": [
    "from collections import Counter\n",
    "\n",
    "document_topics = [lda_model.get_document_topics(doc) for doc in doc_term_matrix]\n",
    "all_topics = [topic[0] for topics in document_topics for topic in topics]\n",
    "\n",
    "topics_nb = Counter(all_topics)\n",
    "\n",
    "most_nb_topics = [topic for topic, count in topics_nb.most_common()]\n",
    "print(\"The most common topics and the number of instances are:\")\n",
    "for topic, x in topics_nb.most_common():\n",
    "    print(f\"Topic {topic +1}: Count {x}\")\n",
    "for topic in most_nb_topics:\n",
    "    topics_words = lda_model.show_topic(topic)\n",
    "    most_words = [word for word, _ in topics_words]\n",
    "    print(f\"Most used words in Topic {topic +1}: {', '.join(most_words)}\")"
   ]
  },
  {
   "cell_type": "code",
   "execution_count": 18,
   "metadata": {},
   "outputs": [
    {
     "name": "stdout",
     "output_type": "stream",
     "text": [
      "the optimal number of topic for this model is: 15\n"
     ]
    }
   ],
   "source": [
    "from gensim.models.coherencemodel import CoherenceModel\n",
    "\n",
    "# Function to compute coherence score\n",
    "def compute_coherence(dictionary, corpus, texts, limit, start=2, step=3):\n",
    "    # YOUR CODE HERE\n",
    "    coherence_values = []\n",
    "    for num_topics in range(start, limit, step):\n",
    "        lda_model = LdaModel(corpus = corpus, id2word = dictionary, num_topics = num_topics, random_state = 100)\n",
    "\n",
    "        coherence_model_lda = CoherenceModel(model = lda_model, texts = texts, dictionary = dictionary, coherence = 'c_v')\n",
    "        coherence_values.append(coherence_model_lda.get_coherence())\n",
    "    \n",
    "    return coherence_values\n",
    "\n",
    "coherence_values = compute_coherence(dictionary=corpus, corpus= doc_term_matrix, texts=processed_text, limit=50, start = 5, step=5)\n",
    "\n",
    "optimal_nb_topics = (coherence_values.index(max(coherence_values)) + 1) * 5\n",
    "print(f\"the optimal number of topic for this model is: {optimal_nb_topics}\")"
   ]
  },
  {
   "cell_type": "code",
   "execution_count": 29,
   "metadata": {},
   "outputs": [
    {
     "data": {
      "image/png": "[encoded data removed]",
      "text/plain": [
       "<Figure size 640x480 with 1 Axes>"
      ]
     },
     "metadata": {},
     "output_type": "display_data"
    }
   ],
   "source": [
    "# Plotting coherence scores\n",
    "import matplotlib.pyplot as plt\n",
    "plt.plot(range(5, 50, 5), coherence_values, marker='o')\n",
    "plt.xlabel(\"Number of Topics\")\n",
    "plt.ylabel(\"Coherence Score\")\n",
    "plt.title(\"LDA Coherence\")\n",
    "plt.show()\n"
   ]
  },
  {
   "cell_type": "code",
   "execution_count": 30,
   "metadata": {},
   "outputs": [
    {
     "name": "stdout",
     "output_type": "stream",
     "text": [
      "The final coherence score is of 0.2867461780390604\n"
     ]
    }
   ],
   "source": [
    "# YOUR CODE HERE\n",
    "#1 optimal number of topics\n",
    "optimal_number_topics = optimal_nb_topics\n",
    "\n",
    "#2 pre-process the full dataset\n",
    "processed_text = [preprocess_text(text) for text in all_pdf_texts]\n",
    "\n",
    "corpus = corpora.Dictionary(processed_text)\n",
    "doc_term_matrix = [corpus.doc2bow(text) for text in processed_text]\n",
    "\n",
    "#3 Fit the LDA Model:\n",
    "final_lda_model = LdaModel(corpus = doc_term_matrix, id2word = corpus, num_topics = optimal_number_topics)\n",
    "\n",
    "#4 Model Evaluation;\n",
    "final_coherence_model = CoherenceModel(model = final_lda_model, texts = processed_text, dictionary = corpus, coherence = 'c_v')\n",
    "final_coherence_score = final_coherence_model.get_coherence()\n",
    "print(f\"The final coherence score is of {final_coherence_score}\")\n",
    "#5 Refelctions: "
   ]
  },
  {
   "cell_type": "code",
   "execution_count": 31,
   "metadata": {},
   "outputs": [
    {
     "name": "stdout",
     "output_type": "stream",
     "text": [
      "\n",
      "Top words for Topic 1: waste, economy, circular, recycling, material, management, product, food, system, consumer\n",
      "\n",
      "Top words for Topic 2: waste, management, economy, circular, recycling, system, policy, environmental, food, material\n",
      "\n",
      "Top words for Topic 3: waste, economy, management, circular, recycling, product, material, household, food, system\n",
      "\n",
      "Top words for Topic 4: waste, circular, economy, management, recycling, system, food, material, plastic, policy\n",
      "\n",
      "Top words for Topic 5: waste, food, economy, management, recycling, circular, policy, material, environmental, system\n",
      "\n",
      "Top words for Topic 6: waste, recycling, food, product, economy, material, management, system, circular, collection\n",
      "\n",
      "Top words for Topic 7: waste, food, recycling, product, economy, management, circular, collection, material, consumer\n",
      "\n",
      "Top words for Topic 8: waste, recycling, circular, product, management, collection, system, food, policy, study\n",
      "\n",
      "Top words for Topic 9: waste, circular, economy, plastic, management, food, recycling, material, resource, environmental\n",
      "\n",
      "Top words for Topic 10: waste, food, management, recycling, system, economy, product, material, plastic, study\n",
      "\n",
      "Top words for Topic 11: waste, management, economy, circular, recycling, food, material, policy, plastic, system\n",
      "\n",
      "Top words for Topic 12: waste, management, circular, economy, product, recycling, food, environmental, policy, material\n",
      "\n",
      "Top words for Topic 13: waste, management, food, economy, recycling, circular, system, product, material, research\n",
      "\n",
      "Top words for Topic 14: waste, food, recycling, management, product, economy, circular, consumer, policy, system\n",
      "\n",
      "Top words for Topic 15: waste, management, food, economy, recycling, material, circular, plastic, environmental, product\n"
     ]
    }
   ],
   "source": [
    "#2\n",
    "custom_stopwords = set(['just', 'like', 'way', 'said', 'wouldn', 'also', 'u', 'one', 'would', 'hillary', 'even', 'new', 'dont', 'donald', 'take']) \\\n",
    "\n",
    "for topic in range(optimal_number_topics):   'waste', 'economy', 'management'\n",
    "    topic_words = final_lda_model.show_topic(topic)\n",
    "    top_words = [word for word, _ in topic_words if word not in custom_stopwords]\n",
    "    print(f\"\\nTop words for Topic {topic + 1}: {', '.join(top_words)}\") #find a way to put circular ecnomy as 1 wrd"
   ]
  }
 ],
 "metadata": {
  "kernelspec": {
   "display_name": "Python 3",
   "language": "python",
   "name": "python3"
  },
  "language_info": {
   "codemirror_mode": {
    "name": "ipython",
    "version": 3
   },
   "file_extension": ".py",
   "mimetype": "text/x-python",
   "name": "python",
   "nbconvert_exporter": "python",
   "pygments_lexer": "ipython3",
   "version": "3.10.10"
  }
 },
 "nbformat": 4,
 "nbformat_minor": 2
}
